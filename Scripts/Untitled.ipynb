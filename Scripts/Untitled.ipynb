{
 "cells": [
  {
   "cell_type": "code",
   "execution_count": 1,
   "metadata": {},
   "outputs": [],
   "source": [
    "# Dependencies and Setup\n",
    "\n",
    "import pandas as pd\n",
    "import numpy as np\n",
    "import requests\n",
    "import json"
   ]
  },
  {
   "cell_type": "code",
   "execution_count": 13,
   "metadata": {},
   "outputs": [],
   "source": [
    "base_url = \"https://services.cancerimagingarchive.net/services/v3\"\n",
    "\n",
    "params = {\n",
    "    \"resource\": \"/TCIA\",\n",
    "    \"query_endpoint\": \"query/getPatientStudy?\",\n",
    "    \"query_parameters\": \"Collection = TCGA-GBM&PatientID=GBM-0123\",\n",
    "    \"format\": \"format=json\"\n",
    "}\n",
    "\n",
    "\n",
    "#https://services.cancerimagingarchive.net/services/v3/TCIA/query/getPatientStudy/metadata "
   ]
  },
  {
   "cell_type": "code",
   "execution_count": 16,
   "metadata": {},
   "outputs": [
    {
     "name": "stdout",
     "output_type": "stream",
     "text": [
      "https://services.cancerimagingarchive.net/services/v3 {'resource': '/TCIA', 'query_endpoint': 'query/getPatientStudy?', 'query_parameters': 'Collection = TCGA-GBM&PatientID=GBM-0123', 'format': 'format=json'}\n"
     ]
    }
   ],
   "source": [
    "print (base_url, params)"
   ]
  },
  {
   "cell_type": "code",
   "execution_count": 22,
   "metadata": {},
   "outputs": [],
   "source": [
    "# assemble url and make API request\n",
    "\n",
    "#print(f\"Retrieving Results for Index {index}: {restr_type}.\")\n",
    "\n",
    "url = \"https://services.cancerimagingarchive.net/services/v3/TCIA/query/getPatientStudy?Collection=TCGA-GBM&PatientID=GBM-0123&format=json\"\n",
    "#response = requests.get(base_url, params=params).csv()\n",
    "\n",
    "\n",
    "response = requests.get(url).json()"
   ]
  },
  {
   "cell_type": "code",
   "execution_count": 25,
   "metadata": {},
   "outputs": [
    {
     "name": "stdout",
     "output_type": "stream",
     "text": [
      "[]\n"
     ]
    }
   ],
   "source": [
    "print(response)"
   ]
  },
  {
   "cell_type": "code",
   "execution_count": null,
   "metadata": {},
   "outputs": [],
   "source": []
  }
 ],
 "metadata": {
  "kernelspec": {
   "display_name": "Python 3",
   "language": "python",
   "name": "python3"
  },
  "language_info": {
   "codemirror_mode": {
    "name": "ipython",
    "version": 3
   },
   "file_extension": ".py",
   "mimetype": "text/x-python",
   "name": "python",
   "nbconvert_exporter": "python",
   "pygments_lexer": "ipython3",
   "version": "3.7.4"
  }
 },
 "nbformat": 4,
 "nbformat_minor": 2
}
